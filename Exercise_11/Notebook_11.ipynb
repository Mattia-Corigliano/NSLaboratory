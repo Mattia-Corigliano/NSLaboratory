{
 "cells": [
  {
   "cell_type": "markdown",
   "metadata": {},
   "source": [
    "# Numerical Simulation Laboratory                                                         \n",
    "                                        Department of Physics, University of Milan(It)\n",
    "                                        Spring 2020 \n",
    "                                                                     Mattia Corigliano\n",
    "## 11<sup>th </sup> Computational Exercise"
   ]
  },
  {
   "cell_type": "code",
   "execution_count": 2,
   "metadata": {},
   "outputs": [],
   "source": [
    "import numpy as np\n",
    "import matplotlib.pyplot as plt\n",
    "from mpl_toolkits.mplot3d import Axes3D\n",
    "\n",
    "import tensorflow as tf\n",
    "\n",
    "from tensorflow.keras import layers, activations\n",
    "\n",
    "##  setting the Layout\n",
    "import matplotlib as mpl\n",
    "## LINES\n",
    "mpl.rcParams['lines.linewidth'] = 2\n",
    "mpl.rcParams['lines.linestyle'] = '-'\n",
    "## AXES\n",
    "mpl.rcParams['axes.linewidth'] = 1 ## edge linewidth\n",
    "mpl.rcParams['axes.grid'] = True ## display grid or not\n",
    "mpl.rcParams['axes.titlesize'] = 16 ## fontsize of the axes title\n",
    "#mpl.rcParams['axes.titleweight'] = 'bold'\n",
    "mpl.rcParams['axes.labelsize'] = 14  ## fontsize of the x any y labels\n",
    "mpl.rcParams['axes.formatter.limits'] = [-2,6] # use scientific notation if log10\n",
    "mpl.rcParams['axes.formatter.use_mathtext'] = True # When True, use mathtext for scientific\n",
    "mpl.rcParams['legend.fontsize'] = 12\n",
    "## TICKS\n",
    "mpl.rcParams['xtick.labelsize'] = 12 ## fontsize of the tick labels\n",
    "mpl.rcParams['ytick.labelsize'] = 12 \n",
    "mpl.rcParams['xtick.minor.visible'] = True ## visibility of minor ticks on x-axis\n",
    "mpl.rcParams['ytick.minor.visible'] = True\n",
    "## FIGURE\n",
    "mpl.rcParams['figure.titleweight'] = 'bold' ## weight of the figure title\n",
    "mpl.rcParams['figure.subplot.wspace'] = 0.4\n",
    "mpl.rcParams['figure.subplot.hspace'] = 0.4\n",
    "## ERRORBARS\n",
    "mpl.rcParams['errorbar.capsize'] = 2  ## length of end cap on error bars in pixels"
   ]
  },
  {
   "cell_type": "markdown",
   "metadata": {},
   "source": [
    "###   A. Linear Regression"
   ]
  },
  {
   "cell_type": "code",
   "execution_count": 3,
   "metadata": {},
   "outputs": [],
   "source": [
    "# target parameters of f(x) = m*x + b\n",
    "m = 2 # slope\n",
    "b = 1 # intersect"
   ]
  },
  {
   "cell_type": "code",
   "execution_count": null,
   "metadata": {},
   "outputs": [],
   "source": []
  }
 ],
 "metadata": {
  "kernelspec": {
   "display_name": "Python 3",
   "language": "python",
   "name": "python3"
  },
  "language_info": {
   "codemirror_mode": {
    "name": "ipython",
    "version": 3
   },
   "file_extension": ".py",
   "mimetype": "text/x-python",
   "name": "python",
   "nbconvert_exporter": "python",
   "pygments_lexer": "ipython3",
   "version": "3.7.4"
  }
 },
 "nbformat": 4,
 "nbformat_minor": 4
}
